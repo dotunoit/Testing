<<<<<<< HEAD:guess_game.ipynb
#import random module for random number to be used in the game
import random
#Accept player name as input
player_name = input("What's your name? ")
print(f"Hello, {player_name}! Let's play a game.")
#Specify the random number (integer) to be between 1-100
secret_number = random.randint(1, 100)
print("I will pick a number between 1 and 100.")
print("You have 9 attempts to guess it.")

no_of_guesses = 0
guesses_left = 9

while no_of_guesses < 9:
    try:
        guess = int(input("Take a guess: "))
        if 1 <= guess <= 100:
            if guess < secret_number:
                print("Your guess is too low!")
            elif guess > secret_number:
                print("Your guess is too high!")
# In a rare case where the player guesses right the first time, the system shouldn't print '1 attempts' but 'first attempt' 
            else:
                if no_of_guesses == 0:
                    print(f"Yes, {player_name}! You guessed the number correctly in the first attempt.")
                else:
                    print(f"Yes, {player_name}! You guessed the number correctly in the {no_of_guesses + 1}th attempt.")
                break
# The variables below are to give count of guesses left
            no_of_guesses += 1
            guesses_left -= 1
            print(f"Wrong guess! You have {guesses_left} attempts remaining.")
#To give error message when strings or numbers outside the range 1 and 100 are entered
        else:
            print("Please enter a number between 1 and 100.")
    except ValueError:
        print("Please enter a number between 1 and 100.")
#To terminate after the 9th try
if no_of_guesses == 9:
    print(f"Sorry, {player_name}. After the 9th try, you couldn't guess the number. The number was {secret_number}.")
=======
{
 "cells": [
  {
   "cell_type": "code",
   "execution_count": null,
   "id": "4f3e607e",
   "metadata": {},
   "outputs": [],
   "source": [
    "import random\n",
    "\n",
    "player_name = input(\"What's your name? \")\n",
    "print(f\"Hello, {player_name}! Let's play a game.\")\n",
    "\n",
    "secret_number = random.randint(1, 100)\n",
    "print(\"I will pick a number between 1 and 100.\")\n",
    "print(\"You have 9 attempts to guess it.\")\n",
    "\n",
    "guesses_taken = 0\n",
    "remaining_guesses = 9\n",
    "\n",
    "while guesses_taken < 9:\n",
    "    try:\n",
    "        guess = int(input(\"Take a guess: \"))\n",
    "        if 1 <= guess <= 100:\n",
    "            if guess < secret_number:\n",
    "                print(\"Your guess is too low!\")\n",
    "            elif guess > secret_number:\n",
    "                print(\"Your guess is too high!\")\n",
    "# In a rare case where the player guesses right the first time, the system shouldn't print '1 attempts' but 'first attempt' \n",
    "            else:\n",
    "                if guesses_taken == 0:\n",
    "                    print(f\"Yes, {player_name}! You guessed the number correctly in the first attempt.\")\n",
    "                else:\n",
    "                    print(f\"Yes, {player_name}! You guessed the number correctly in the {guesses_taken + 1}th attempt.\")\n",
    "                break\n",
    "# The variables below are to give count of guesses left\n",
    "            guesses_taken += 1\n",
    "            remaining_guesses -= 1\n",
    "            print(f\"Wrong guess! You have {remaining_guesses} attempts remaining.\")\n",
    "#To give error message when strings or numbers outside the range 1 and 100 are entered\n",
    "        else:\n",
    "            print(\"Please enter a number between 1 and 100.\")\n",
    "    except ValueError:\n",
    "        print(\"Please enter a number between 1 and 100.\")\n",
    "#To terminate after the 9th try\n",
    "if guesses_taken == 9:\n",
    "    print(f\"Sorry, {player_name}. After the 9th try, you couldn't guess the number. The number was {secret_number}.\")\n"
   ]
  },
  {
   "cell_type": "code",
   "execution_count": null,
   "id": "c7754953",
   "metadata": {},
   "outputs": [],
   "source": []
  }
 ],
 "metadata": {
  "kernelspec": {
   "display_name": "Python 3 (ipykernel)",
   "language": "python",
   "name": "python3"
  },
  "language_info": {
   "codemirror_mode": {
    "name": "ipython",
    "version": 3
   },
   "file_extension": ".py",
   "mimetype": "text/x-python",
   "name": "python",
   "nbconvert_exporter": "python",
   "pygments_lexer": "ipython3",
   "version": "3.10.9"
  }
 },
 "nbformat": 4,
 "nbformat_minor": 5
}
>>>>>>> c4a5ebd (Initial commit):final_guess_game.ipynb
